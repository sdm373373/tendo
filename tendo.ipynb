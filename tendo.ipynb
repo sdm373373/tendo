{
 "cells": [
  {
   "cell_type": "code",
   "execution_count": 1,
   "metadata": {},
   "outputs": [],
   "source": [
    "import gspread\n",
    "import csv\n",
    "\n",
    "# Define the scope and credentials for accessing the Google Sheet\n",
    "client = gspread.oauth(\n",
    "    credentials_filename='credentials.json'\n",
    ")\n",
    "\n",
    "# Open the Google Sheet\n",
    "sheet = client.open_by_url('https://docs.google.com/spreadsheets/d/1YTF2uF-XpXdwK4GG6nlpopAYg5wzJhTACjh0Ib_A2BQ/edit#gid=416190132')\n",
    "\n",
    "# Iterate over each worksheet in the Google Sheet\n",
    "for worksheet in sheet.worksheets():\n",
    "    # Get the name of the worksheet\n",
    "    worksheet_name = worksheet.title\n",
    "    \n",
    "    # Get the data from the worksheet\n",
    "    data = worksheet.get_all_values()\n",
    "    \n",
    "    # Create a CSV file with the same name as the worksheet\n",
    "    with open(f'{worksheet_name}.csv', 'w', newline='') as csvfile:\n",
    "        writer = csv.writer(csvfile)\n",
    "        \n",
    "        # Write each row of data to the CSV file\n",
    "        for row in data:\n",
    "            writer.writerow(row)\n"
   ]
  },
  {
   "cell_type": "code",
   "execution_count": 2,
   "metadata": {},
   "outputs": [],
   "source": [
    "from pyspark.sql import SparkSession\n",
    "\n",
    "spark = SparkSession.builder.appName(\"tendo_1\").getOrCreate()\n",
    "spark.sparkContext.setLogLevel(\"ERROR\")\n",
    "\n",
    "dfEncounters = spark.read.format(\"csv\").option(\"header\", \"true\").option(\"inferschema\", \"true\").load(\"encounter_e1.csv\")\n",
    "dfLabs = spark.read.format(\"csv\").option(\"header\", \"true\").option(\"inferschema\", \"true\").load(\"lab_e1.csv\")\n",
    "dfMedications = spark.read.format(\"csv\").option(\"header\", \"true\").option(\"inferschema\", \"true\").load(\"medications_e1.csv\")\n",
    "dfPatients = spark.read.format(\"csv\").option(\"header\", \"true\").option(\"inferschema\", \"true\").load(\"patient_e1.csv\")\n",
    "\n",
    "dfEncounters.createOrReplaceTempView(\"encounters\")\n",
    "dfLabs.createOrReplaceTempView(\"labs\")\n",
    "dfMedications.createOrReplaceTempView(\"medications\")\n",
    "dfPatients.createOrReplaceTempView(\"patients\")"
   ]
  },
  {
   "cell_type": "code",
   "execution_count": 3,
   "metadata": {},
   "outputs": [
    {
     "name": "stdout",
     "output_type": "stream",
     "text": [
      "+------------+------+---+---------------------+------------------------------+----------------+---------------+---------------+\n",
      "|  patient_id|   Sex|Age|primary_care_provider|medication_simple_generic_name|avg_minimum_dose|      dose_unit|admit_diagnosis|\n",
      "+------------+------+---+---------------------+------------------------------+----------------+---------------+---------------+\n",
      "|111013198531|Female| 31|           1700233590|                              |           500.0|             mg|          O16.3|\n",
      "|111013198531|Female| 31|           1700233590|          Ringer's solution...|             0.0|               |          O16.3|\n",
      "|111013198531|Female| 31|           1700233590|                 acetaminophen|          1000.0|             mg|          O16.3|\n",
      "|111013198531|Female| 31|           1700233590|                    benzocaine|             1.0|          spray|          O16.3|\n",
      "|111013198531|Female| 31|           1700233590|            bupivacaine HCl/PF|             0.0|               |          O16.3|\n",
      "|111013198531|Female| 31|           1700233590|          cefazolin sodium/...|          2000.0|             mg|          O16.3|\n",
      "|111013198531|Female| 31|           1700233590|           diphenhydramine HCl|            25.0|             mg|          O16.3|\n",
      "|111013198531|Female| 31|           1700233590|               docusate sodium|           100.0|             mg|          O16.3|\n",
      "|111013198531|Female| 31|           1700233590|           fentanyl citrate/PF|             0.0|               |          O16.3|\n",
      "|111013198531|Female| 31|           1700233590|          fentanyl/bupivaca...|             0.0|               |          O16.3|\n",
      "|111013198531|Female| 31|           1700233590|          glycerin/witch hazel|             1.0|    Application|          O16.3|\n",
      "|111013198531|Female| 31|           1700233590|             hydromorphone HCl|             1.0|             mg|          O16.3|\n",
      "|111013198531|Female| 31|           1700233590|                     ibuprofen|           600.0|             mg|          O16.3|\n",
      "|111013198531|Female| 31|           1700233590|           lactated ringers IV|           999.0|             mL|          O16.3|\n",
      "|111013198531|Female| 31|           1700233590|              lidocaine HCl/PF|             0.0|               |          O16.3|\n",
      "|111013198531|Female| 31|           1700233590|          lidocaine HCl/epi...|             0.0|               |          O16.3|\n",
      "|111013198531|Female| 31|           1700233590|                   misoprostol|            25.0|            mcg|          O16.3|\n",
      "|111013198531|Female| 31|           1700233590|              modified lanolin|             1.0|    Application|          O16.3|\n",
      "|111013198531|Female| 31|           1700233590|            ondansetron HCl/PF|             4.0|             mg|          O16.3|\n",
      "|111013198531|Female| 31|           1700233590|          oxytocin/0.9 % so...|             2.0|milli-units/min|          O16.3|\n",
      "+------------+------+---+---------------------+------------------------------+----------------+---------------+---------------+\n",
      "only showing top 20 rows\n",
      "\n"
     ]
    }
   ],
   "source": [
    "import datetime\n",
    "\n",
    "dfResult1 = spark.sql(\"\"\"\n",
    "    SELECT \n",
    "        p.patientid as patient_id,\n",
    "        p.Sex,\n",
    "        p.Age,\n",
    "        p.primary_care_provider,\n",
    "        coalesce(m.medication_simple_generic_name, '') as medication_simple_generic_name,\n",
    "        AVG(coalesce(m.minimum_dose, 0.0)) as avg_minimum_dose,\n",
    "        coalesce(m.dose_unit, '') as dose_unit,\n",
    "        MAX(e.admit_diagnosis) as admit_diagnosis\n",
    "    FROM patients p\n",
    "    INNER JOIN medications m on p.patientid = m.patientid\n",
    "    INNER JOIN encounters e on p.patientid = e.patientid\n",
    "    GROUP BY p.patientid, p.Sex, p.Age, p.primary_care_provider, m.medication_simple_generic_name, m.dose_unit\n",
    "    order by p.patientid, p.Sex, p.Age, p.primary_care_provider, m.medication_simple_generic_name, m.dose_unit\n",
    "\"\"\")\n",
    "                      \n",
    "# Get current date in \"YYYYMMDD\" format\n",
    "current_date = datetime.datetime.now().strftime(\"%Y%m%d\")\n",
    "\n",
    "# Step 3: Create the filename\n",
    "filename = f\"target_1_{current_date}.txt\"\n",
    "                      \n",
    "# dfResult1.write.format(\"csv\").option(\"header\", \"true\").option(\"delimiter\", \"|\").option(\"encoding\", \"UTF-8\").mode(\"overwrite\").save(filename)\n",
    "dfResult1.toPandas().to_csv(filename, sep='|', encoding='utf-8', index=False, quoting=csv.QUOTE_ALL, lineterminator='\\n')\n",
    "\n",
    "dfResult1.show()"
   ]
  }
 ],
 "metadata": {
  "kernelspec": {
   "display_name": "Python 3",
   "language": "python",
   "name": "python3"
  },
  "language_info": {
   "codemirror_mode": {
    "name": "ipython",
    "version": 3
   },
   "file_extension": ".py",
   "mimetype": "text/x-python",
   "name": "python",
   "nbconvert_exporter": "python",
   "pygments_lexer": "ipython3",
   "version": "3.10.4"
  },
  "orig_nbformat": 4,
  "vscode": {
   "interpreter": {
    "hash": "369f2c481f4da34e4445cda3fffd2e751bd1c4d706f27375911949ba6bb62e1c"
   }
  }
 },
 "nbformat": 4,
 "nbformat_minor": 2
}
